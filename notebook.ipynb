{
 "metadata": {
  "name": "",
  "signature": "sha256:30550731ed703dddaa44a302e85b05d78dc6c8c5b9abdb4432d98ecf6da8a2f8"
 },
 "nbformat": 3,
 "nbformat_minor": 0,
 "worksheets": [
  {
   "cells": [
    {
     "cell_type": "markdown",
     "metadata": {},
     "source": [
      "### Data Sources (ranked by ease of use... usually)\n",
      "\n",
      "#### DaaS -- Data as a service \n",
      "* time series: [Quandl](http://www.quandl.com/)\n",
      "* public datasets: [enigma](http://enigma.io/)\n",
      "* location contextualization: [factual](http://www.factual.com/)\n",
      "* financial modeling: [Quantopian](https://www.quantopian.com/)\n",
      "* email contextualization: [Rapleaf](http://www.rapleaf.com/why-rapleaf/)\n",
      "* social media: [Gnip](http://gnip.com/)\n",
      "        \n",
      "#### Bulk Downloads -- just like the good ol' days\n",
      "\n",
      "* FTP servers\n",
      "* Amazon S3 public datasets\n",
      "* InfoChimps\n",
      "* academia\n",
      "\n",
      "#### APIs -- public and hidden\n",
      "* Twitter\n",
      "* Foursquare\n",
      "* Facebook\n",
      "* Tumblr\n",
      "* Rdio\n",
      "* Yelp\n",
      "* Last.fm\n",
      "* bitly\n",
      "* etc.\n",
      "* etc.\n",
      "* etc.\n",
      "\n",
      "#### DIY\n",
      "* Webscraping \n",
      "* manual downloads"
     ]
    },
    {
     "cell_type": "markdown",
     "metadata": {},
     "source": [
      "### Tools to get the Data\n",
      "\n",
      "* [wget](http://www.gnu.org/software/wget/) is your friend. [curl](http://curl.haxx.se/) is your homie. \n",
      "* [Scrapy](http://scrapy.org/)\n",
      "* [Beautiful Soup](http://www.crummy.com/software/BeautifulSoup/) and [Nokogiri](http://nokogiri.org/)\n",
      "* [Requests](http://docs.python-requests.org/) (or any HTTP library)"
     ]
    },
    {
     "cell_type": "code",
     "collapsed": false,
     "input": [
      "from bs4 import BeautifulSoup\n",
      "import requests\n",
      "import time\n",
      "import json\n",
      "import nltk\n",
      "import unicodedata\n",
      "from dateutil import parser\n",
      "import numpy as np\n",
      "import scipy as sp\n",
      "import scipy.stats as st\n",
      "import pickle\n",
      "import pandas as pd\n",
      "\n",
      "from sklearn import cross_validation\n",
      "from sklearn import datasets\n",
      "from sklearn.metrics import confusion_matrix\n",
      "from sklearn.externals import joblib\n",
      "from sklearn.naive_bayes import BernoulliNB, MultinomialNB\n",
      "\n",
      "%pylab inline\n",
      "\n",
      "import numpy as np\n",
      "import pylab as pl\n",
      "from sklearn import svm, datasets\n",
      "from sklearn import linear_model \n",
      "from sklearn import naive_bayes\n",
      "from sklearn.utils import shuffle\n",
      "from sklearn.cluster import DBSCAN\n",
      "from sklearn.metrics import roc_curve, auc\n",
      "from sklearn.feature_extraction.text import CountVectorizer, TfidfVectorizer\n",
      "\n",
      "from nltk import tokenize\n",
      "from nltk.corpus import stopwords\n",
      "import sqlite3\n",
      "import unicodedata\n",
      "\n",
      "from pymongo import MongoClient\n",
      "from pymongo import errors\n",
      "client = MongoClient()\n",
      "db = client.nyt\n",
      "\n",
      "# get mongoDB collection\n",
      "collection = db.articles"
     ],
     "language": "python",
     "metadata": {},
     "outputs": [
      {
       "output_type": "stream",
       "stream": "stdout",
       "text": [
        "Populating the interactive namespace from numpy and matplotlib\n"
       ]
      },
      {
       "output_type": "stream",
       "stream": "stderr",
       "text": [
        "WARNING: pylab import has clobbered these variables: ['shuffle']\n",
        "`%matplotlib` prevents importing * from pylab and numpy\n"
       ]
      }
     ],
     "prompt_number": 4
    },
    {
     "cell_type": "markdown",
     "metadata": {},
     "source": [
      "### Goals\n",
      "\n",
      "* Find the __urls__ of every __NYT__ article (ever written!) using their __API__\n",
      "* Fetch the associated __HTML__ and __content__ each article through __webscraping__\n",
      "* __Join__ these datasets (metadata and content) and __store__ the result in a __database__"
     ]
    },
    {
     "cell_type": "markdown",
     "metadata": {},
     "source": [
      "![NYT_api](http://assets.zipfianacademy.com/data/NYT_api.png)\n",
      "\n",
      "#### let us retrieve a list of NYT articles.  All of them..."
     ]
    },
    {
     "cell_type": "code",
     "collapsed": false,
     "input": [
      "api_key='02cf21e7c3725f155c4af8ee4afb5af8:12:67786765'\n",
      "\n",
      "url = 'http://api.nytimes.com/svc/search/v2/articlesearch.json?fq=section_name.contains:(\"Arts\" \"Business Day\" \"Opinion\" \"Sports\" \"U.S.\" \"World\")&sort=newest&api-key=' + api_key\n",
      "\n",
      "# make an API request\n",
      "api = requests.get(url)"
     ],
     "language": "python",
     "metadata": {},
     "outputs": [],
     "prompt_number": 5
    },
    {
     "cell_type": "code",
     "collapsed": false,
     "input": [
      "\"# parse resulting JSON and insert into a mongoDB collection\"\n",
      "for content in api.json()['response']['docs']:\n",
      "    if not collection.find_one(content):\n",
      "        collection.insert(content)\n",
      "    \n",
      "# only returns 10 per page\n",
      "\"There are only %i docuemtns returned 0_o\" % len(api.json()['response']['docs'])"
     ],
     "language": "python",
     "metadata": {},
     "outputs": [
      {
       "metadata": {},
       "output_type": "pyout",
       "prompt_number": 6,
       "text": [
        "'There are only 10 docuemtns returned 0_o'"
       ]
      }
     ],
     "prompt_number": 6
    },
    {
     "cell_type": "code",
     "collapsed": false,
     "input": [
      "# parse resulting JSON and insert into a mongoDB collection\n",
      "for content in api.json()['response']['docs']:\n",
      "    print content['pub_date']"
     ],
     "language": "python",
     "metadata": {},
     "outputs": [
      {
       "output_type": "stream",
       "stream": "stdout",
       "text": [
        "2014-05-11T00:00:00Z\n",
        "2014-05-11T00:00:00Z\n",
        "2014-05-11T00:00:00Z\n",
        "2014-05-11T00:00:00Z\n",
        "2014-05-09T00:00:00Z\n",
        "2014-05-09T00:00:00Z\n",
        "2014-05-09T00:00:00Z\n",
        "2014-05-09T00:00:00Z\n",
        "2014-05-09T00:00:00Z\n",
        "2014-05-09T00:00:00Z\n"
       ]
      }
     ],
     "prompt_number": 7
    },
    {
     "cell_type": "code",
     "collapsed": false,
     "input": [
      "[name['section_name'] for name in api.json()['response']['docs'] ]"
     ],
     "language": "python",
     "metadata": {},
     "outputs": [
      {
       "metadata": {},
       "output_type": "pyout",
       "prompt_number": 8,
       "text": [
        "[u'Arts',\n",
        " u'Arts',\n",
        " u'Arts',\n",
        " u'Arts',\n",
        " u'Opinion',\n",
        " u'Business Day',\n",
        " u'U.S.',\n",
        " u'Opinion',\n",
        " u'Opinion',\n",
        " u'Business Day']"
       ]
      }
     ],
     "prompt_number": 8
    },
    {
     "cell_type": "markdown",
     "metadata": {},
     "source": [
      "### Tools to store the Data\n",
      "\n",
      "* Relational Database: Postgres and MySQL \n",
      "* NoSQL: Document (MongoDB, CouchDB), Key-Value (Redis), Distributed (HDFS, Riak, Cassandra)\n",
      "* Text Files (never hurt anyone)"
     ]
    },
    {
     "cell_type": "code",
     "collapsed": false,
     "input": [
      "# there are many more than 10 articles however\n",
      "total_articles = articles_left = api.json()['response']['meta']['hits']\n",
      "\n",
      "print \"There are currently %s articles in the NYT archive\" % total_articles"
     ],
     "language": "python",
     "metadata": {},
     "outputs": [
      {
       "output_type": "stream",
       "stream": "stdout",
       "text": [
        "There are currently 1936132 articles in the NYT archive\n"
       ]
      }
     ],
     "prompt_number": 9
    },
    {
     "cell_type": "code",
     "collapsed": false,
     "input": [
      "max_pages = 2\n",
      "page = 0\n",
      "page_count = 0\n",
      "cursor_count = 0\n",
      "final_page = 0\n",
      "articles_left = total_articles\n",
      "last_date = \"20131003\"\n",
      "latest_article = \"\"\n",
      "sections = ['Arts', 'Business Day', 'Opinion', 'Sports', 'US', 'World']\n",
      "\n",
      "# let us loop (and hopefully not hit our rate limit)\n",
      "while articles_left > 0 and page_count < max_pages:\n",
      "    more_articles = requests.get(url + \"&page=\" + str(page) + \"&end_date=\" + str(last_date))\n",
      "    print \"Inserting page \" + str(page)\n",
      "    # make sure it was successful\n",
      "    if more_articles.status_code == 200:\n",
      "        for content in more_articles.json()['response']['docs']:\n",
      "            latest_article = parser.parse(content['pub_date']).strftime(\"%Y%m%d\")\n",
      "            if not collection.find_one(content) and content['document_type'] == 'article':\n",
      "                print \"No dups\"\n",
      "                try:\n",
      "                    print \"Inserting article \" + str(content['headline'])\n",
      "                    collection.insert(content)\n",
      "                except errors.DuplicateKeyError:\n",
      "                    print \"Duplicates\"\n",
      "                    continue\n",
      "            else:\n",
      "                print \"In collection already\"\n",
      "                    \n",
      "        articles_left -= 10\n",
      "        page += 1\n",
      "        page_count += 1\n",
      "        cursor_count += 1\n",
      "        final_page = max(final_page, page)\n",
      "    else:\n",
      "        if more_articles.status_code == 403:\n",
      "            print \"Sleepy...\"\n",
      "            # account for rate limiting\n",
      "            time.sleep(2)\n",
      "        elif cursor_count > 100:\n",
      "            print \"Adjusting date\"\n",
      "            cursor_count = 0\n",
      "            page = 0\n",
      "            last_date = latest_article\n",
      "        else:\n",
      "            print \"ERRORS: \" + str(more_articles.status_code)\n",
      "            cursor_count = 0\n",
      "            page = 0\n",
      "            last_date = latest_article"
     ],
     "language": "python",
     "metadata": {},
     "outputs": [
      {
       "output_type": "stream",
       "stream": "stdout",
       "text": [
        "Inserting page 0\n",
        "In collection already\n",
        "In collection already\n",
        "In collection already\n",
        "In collection already\n",
        "In collection already\n",
        "In collection already\n",
        "In collection already\n",
        "In collection already\n",
        "In collection already\n",
        "In collection already\n",
        "Inserting page 1"
       ]
      },
      {
       "output_type": "stream",
       "stream": "stdout",
       "text": [
        "\n",
        "In collection already\n",
        "In collection already\n",
        "In collection already\n",
        "In collection already\n",
        "In collection already\n",
        "In collection already\n",
        "In collection already\n",
        "In collection already\n",
        "In collection already\n",
        "In collection already\n"
       ]
      }
     ],
     "prompt_number": 10
    },
    {
     "cell_type": "code",
     "collapsed": false,
     "input": [
      "more_articles = requests.get(url + \"&page=\" + str(100))\n",
      "more_articles.json()['response']['docs'][0]"
     ],
     "language": "python",
     "metadata": {},
     "outputs": [
      {
       "metadata": {},
       "output_type": "pyout",
       "prompt_number": 11,
       "text": [
        "{u'_id': u'536a8ea438f0d8040ba19ea9',\n",
        " u'abstract': None,\n",
        " u'blog': [],\n",
        " u'byline': {u'organization': u'THE ASSOCIATED PRESS',\n",
        "  u'original': u'By THE ASSOCIATED PRESS',\n",
        "  u'person': []},\n",
        " u'document_type': u'article',\n",
        " u'headline': {u'main': u'NC Candidate to Sign Same-Sex Marriage Licenses',\n",
        "  u'print_headline': u'NC Candidate to Sign Same-Sex Marriage Licenses'},\n",
        " u'keywords': [],\n",
        " u'lead_paragraph': u\"The apparent winner of a register of deeds seat in North Carolina says he'll sign same-sex marriage licenses despite a state ban against gay unions.\",\n",
        " u'multimedia': [],\n",
        " u'news_desk': None,\n",
        " u'print_page': None,\n",
        " u'pub_date': u'2014-05-07T15:49:28Z',\n",
        " u'section_name': u'U.S.',\n",
        " u'snippet': u\"The apparent winner of a register of deeds seat in North Carolina says he'll sign same-sex marriage licenses despite a state ban against gay unions.\",\n",
        " u'source': u'AP',\n",
        " u'subsection_name': None,\n",
        " u'type_of_material': u'News',\n",
        " u'web_url': u'http://www.nytimes.com/aponline/2014/05/07/us/ap-us-same-sex-marriage-north-carolina.html',\n",
        " u'word_count': None}"
       ]
      }
     ],
     "prompt_number": 11
    },
    {
     "cell_type": "markdown",
     "metadata": {},
     "source": [
      "### Where are we \n",
      "\n",
      "* We have successful gathered article metadata from the NYT API\n",
      "* We have stored said data in MongoDB\n",
      "* We have URLs for each article that we can now use for scraping"
     ]
    },
    {
     "cell_type": "code",
     "collapsed": false,
     "input": [
      "# now we can get some content!\n",
      "#limit = 100\n",
      "limit = 10\n",
      "\n",
      "for article in collection.find({'html' : {'$exists' : False} }):\n",
      "    if limit and limit > 0:\n",
      "        if not article.has_key('html') and article['document_type'] == 'article':\n",
      "            limit -= 1\n",
      "            print article['web_url']\n",
      "            html = requests.get(article['web_url'] + \"?smid=tw-nytimes\")\n",
      "            \n",
      "            if html.status_code == 200:\n",
      "                soup = BeautifulSoup(html.text)\n",
      "                \n",
      "                # serialize html\n",
      "                collection.update({ '_id' : article['_id'] }, { '$set' : { 'html' : unicode(soup), 'content' : [] } } )\n",
      "            \n",
      "                for p in soup.find_all('div', class_='articleBody'):\n",
      "                    collection.update({ '_id' : article['_id'] }, { '$push' : { 'content' : p.get_text() } })"
     ],
     "language": "python",
     "metadata": {},
     "outputs": [
      {
       "output_type": "stream",
       "stream": "stdout",
       "text": [
        "http://www.nytimes.com/aponline/2013/09/24/sports/hockey/ap-hkn-stars-avalanche.html\n",
        "http://www.nytimes.com/aponline/2013/09/24/sports/baseball/ap-bbn-pirates-cubs.html"
       ]
      },
      {
       "output_type": "stream",
       "stream": "stdout",
       "text": [
        "\n",
        "http://www.nytimes.com/aponline/2013/09/24/sports/baseball/ap-bbo-red-sox-rockies.html"
       ]
      },
      {
       "output_type": "stream",
       "stream": "stdout",
       "text": [
        "\n",
        "http://www.nytimes.com/reuters/2013/09/24/sports/24reuters-usa-rowing-trip.html"
       ]
      },
      {
       "output_type": "stream",
       "stream": "stdout",
       "text": [
        "\n",
        "http://www.nytimes.com/reuters/2013/09/24/sports/cycling/24reuters-korea-north-cycling.html"
       ]
      },
      {
       "output_type": "stream",
       "stream": "stdout",
       "text": [
        "\n",
        "http://www.nytimes.com/reuters/2013/09/24/us/24reuters-usa-crash-conviction.html"
       ]
      },
      {
       "output_type": "stream",
       "stream": "stdout",
       "text": [
        "\n",
        "http://www.nytimes.com/aponline/2013/09/24/sports/hockey/ap-hkn-lightning-predators.html"
       ]
      },
      {
       "output_type": "stream",
       "stream": "stdout",
       "text": [
        "\n",
        "http://www.nytimes.com/aponline/2013/09/24/sports/baseball/ap-bba-rays-yankees.html"
       ]
      },
      {
       "output_type": "stream",
       "stream": "stdout",
       "text": [
        "\n",
        "http://www.nytimes.com/aponline/2013/09/24/us/ap-us-elderly-man-beaten.html"
       ]
      },
      {
       "output_type": "stream",
       "stream": "stdout",
       "text": [
        "\n",
        "http://www.nytimes.com/aponline/2013/09/24/sports/baseball/ap-bbn-nationals-cardinals.html"
       ]
      },
      {
       "output_type": "stream",
       "stream": "stdout",
       "text": [
        "\n"
       ]
      }
     ],
     "prompt_number": 12
    },
    {
     "cell_type": "code",
     "collapsed": false,
     "input": [
      "for article in collection.find({'html' : {'$exists' : True} }):\n",
      "    print article['web_url']\n",
      "    soup = BeautifulSoup(article['html'], 'html.parser')\n",
      "    arts = soup.find_all('div', class_='articleBody')\n",
      "    \n",
      "    if len(arts) == 0:\n",
      "        arts = soup.find_all('p', class_='story-body-text')\n",
      "    \n",
      "    for p in arts:\n",
      "        collection.update({ '_id' : article['_id'] }, { '$push' : { 'content' : p.get_text() } })"
     ],
     "language": "python",
     "metadata": {},
     "outputs": [
      {
       "output_type": "stream",
       "stream": "stdout",
       "text": [
        "http://www.nytimes.com/2013/10/03/sports/tennis/nadal-on-track-for-no-1-spot.html\n",
        "http://www.nytimes.com/2013/10/03/sports/soccer/judge-halts-work-on-world-cup-stadium.html\n",
        "http://www.nytimes.com/2013/10/03/sports/vonn-is-close-to-returning.html"
       ]
      },
      {
       "output_type": "stream",
       "stream": "stdout",
       "text": [
        "\n",
        "http://www.nytimes.com/2013/10/03/sports/whitney-winner-out-of-breeders-cup-classic.html\n",
        "http://www.nytimes.com/2013/10/03/world/middleeast/irans-president-responds-to-netanyahu.html"
       ]
      },
      {
       "output_type": "stream",
       "stream": "stdout",
       "text": [
        "\n",
        "http://www.nytimes.com/2013/10/03/world/middleeast/libya-mob-attacks-russian-embassy.html\n",
        "http://www.nytimes.com/2013/10/03/world/asia/evidence-north-korea-restarted-reactor.html"
       ]
      },
      {
       "output_type": "stream",
       "stream": "stdout",
       "text": [
        "\n",
        "http://www.nytimes.com/2013/10/03/world/europe/france-court-throws-out-cases-claiming-racial-profiling-by-police.html"
       ]
      },
      {
       "output_type": "stream",
       "stream": "stdout",
       "text": [
        "\n",
        "http://www.nytimes.com/2014/02/16/travel/why-norovirus-crops-up-on-cruises.html\n",
        "http://www.nytimes.com/2013/10/03/opinion/new-york-two-cities.html\n"
       ]
      }
     ],
     "prompt_number": 14
    },
    {
     "cell_type": "markdown",
     "metadata": {},
     "source": [
      "### Now we Vector!\n",
      "\n",
      "Lets make sense of this mess of data"
     ]
    },
    {
     "cell_type": "code",
     "collapsed": false,
     "input": [
      "wnl = nltk.WordNetLemmatizer()\n",
      "\n",
      "def tokenize_and_normalize(chunks):\n",
      "    words = [ tokenize.word_tokenize(sent) for sent in tokenize.sent_tokenize(\"\".join(chunks)) ]\n",
      "    flatten = [ inner for sublist in words for inner in sublist ]\n",
      "    stripped = [] \n",
      "\n",
      "    for word in flatten: \n",
      "        if word not in stopwords.words('english'):\n",
      "            try:\n",
      "                stripped.append(word.encode('latin-1').decode('utf8').lower())\n",
      "            except:\n",
      "                print \"Cannot encode: \" + word\n",
      "            \n",
      "    no_punks = [ word for word in stripped if len(word) > 1 ] \n",
      "    return [wnl.lemmatize(t) for t in no_punks]"
     ],
     "language": "python",
     "metadata": {},
     "outputs": [],
     "prompt_number": 15
    },
    {
     "cell_type": "markdown",
     "metadata": {},
     "source": [
      "![og](http://image.slidesharecdn.com/textclassificationscikit-learnpycon2011ogrisel-110311132018-phpapp01/95/slide-14-728.jpg?1299871296)\n",
      "\n",
      "__HTML -> Text -> Tokens -> bag-of-words vector -> ALGORITHMS! -> $$$__"
     ]
    },
    {
     "cell_type": "code",
     "collapsed": false,
     "input": [
      "wnl = nltk.WordNetLemmatizer()\n",
      "vectorizer = TfidfVectorizer(max_features=1000)\n",
      "\n",
      "hydrate = pd.read_pickle(\"data.pkl\")\n",
      "\n",
      "#hydrate = some(hydrate, 130)\n",
      "\n",
      "# should be length 1405\n",
      "len(hydrate)\n",
      "\n",
      "hydrate.head()"
     ],
     "language": "python",
     "metadata": {},
     "outputs": [
      {
       "html": [
        "<div style=\"max-height:1000px;max-width:1500px;overflow:auto;\">\n",
        "<table border=\"1\" class=\"dataframe\">\n",
        "  <thead>\n",
        "    <tr style=\"text-align: right;\">\n",
        "      <th></th>\n",
        "      <th>document_type</th>\n",
        "      <th>web_url</th>\n",
        "      <th>lead_paragraph</th>\n",
        "      <th>abstract</th>\n",
        "      <th>snippet</th>\n",
        "      <th>news_desk</th>\n",
        "      <th>word_count</th>\n",
        "      <th>source</th>\n",
        "      <th>section_name</th>\n",
        "      <th>subsection_name</th>\n",
        "      <th>_id</th>\n",
        "      <th>pub_date</th>\n",
        "      <th>print_page</th>\n",
        "      <th>headline</th>\n",
        "      <th>content</th>\n",
        "    </tr>\n",
        "  </thead>\n",
        "  <tbody>\n",
        "    <tr>\n",
        "      <th>0</th>\n",
        "      <td> article</td>\n",
        "      <td> http://www.nytimes.com/2013/10/03/sports/footb...</td>\n",
        "      <td> You would think that in a symmetric zero-sum s...</td>\n",
        "      <td>                                              None</td>\n",
        "      <td> You would think that in a symmetric zero-sum s...</td>\n",
        "      <td>   Sports</td>\n",
        "      <td> 347</td>\n",
        "      <td> The New York Times</td>\n",
        "      <td> Sports</td>\n",
        "      <td> Pro Football</td>\n",
        "      <td> 524d4e3a38f0d8198974001f</td>\n",
        "      <td> 2013-10-03T00:00:00Z</td>\n",
        "      <td> None</td>\n",
        "      <td> Week 5 Probabilities: Why Offense Is More Impo...</td>\n",
        "      <td> the original goal building model football fore...</td>\n",
        "    </tr>\n",
        "    <tr>\n",
        "      <th>1</th>\n",
        "      <td> article</td>\n",
        "      <td> http://www.nytimes.com/2013/10/03/us/new-immig...</td>\n",
        "      <td> House Democrats on Wednesday unveiled an immig...</td>\n",
        "      <td> House Democrats unveil immigration bill that p...</td>\n",
        "      <td> House Democrats on Wednesday unveiled an immig...</td>\n",
        "      <td> National</td>\n",
        "      <td>  83</td>\n",
        "      <td> The New York Times</td>\n",
        "      <td>   U.S.</td>\n",
        "      <td>         None</td>\n",
        "      <td> 524cf71338f0d8198973ff7b</td>\n",
        "      <td> 2013-10-03T00:00:00Z</td>\n",
        "      <td>   21</td>\n",
        "      <td>                  New Immigration Bill Put Forward</td>\n",
        "      <td> house unveiled immigration bill provides path ...</td>\n",
        "    </tr>\n",
        "    <tr>\n",
        "      <th>2</th>\n",
        "      <td> article</td>\n",
        "      <td> http://www.nytimes.com/2013/10/03/us/arizona-j...</td>\n",
        "      <td> A federal judge on Wednesday ordered the appoi...</td>\n",
        "      <td> Federal Judge Murray Snow orders the appointme...</td>\n",
        "      <td> A federal judge on Wednesday ordered the appoi...</td>\n",
        "      <td> National</td>\n",
        "      <td> 160</td>\n",
        "      <td> The New York Times</td>\n",
        "      <td>   U.S.</td>\n",
        "      <td>         None</td>\n",
        "      <td> 524cf50e38f0d8198973ff79</td>\n",
        "      <td> 2013-10-03T00:00:00Z</td>\n",
        "      <td>   21</td>\n",
        "      <td> Arizona: Judge Orders Monitor to Oversee Maric...</td>\n",
        "      <td> federal judge wednesday ordered appointment in...</td>\n",
        "    </tr>\n",
        "    <tr>\n",
        "      <th>3</th>\n",
        "      <td> article</td>\n",
        "      <td> http://www.nytimes.com/2013/10/03/us/texas-sta...</td>\n",
        "      <td> Texas has turned to a compounding pharmacy to ...</td>\n",
        "      <td> Documents show that Texas, nation's most activ...</td>\n",
        "      <td> Texas has turned to a compounding pharmacy to ...</td>\n",
        "      <td> National</td>\n",
        "      <td> 112</td>\n",
        "      <td> The New York Times</td>\n",
        "      <td>   U.S.</td>\n",
        "      <td>         None</td>\n",
        "      <td> 524cf39a38f0d8198973ff78</td>\n",
        "      <td> 2013-10-03T00:00:00Z</td>\n",
        "      <td>   21</td>\n",
        "      <td> Texas: State Bought Execution Drugs From a Com...</td>\n",
        "      <td> texas nation\u2019s active death-penalty state turn...</td>\n",
        "    </tr>\n",
        "    <tr>\n",
        "      <th>4</th>\n",
        "      <td> article</td>\n",
        "      <td> http://www.nytimes.com/2013/10/03/sports/tenni...</td>\n",
        "      <td> Rafael Nadal, aiming to end Novak Djokovic\u2019s r...</td>\n",
        "      <td>                                              None</td>\n",
        "      <td> Rafael Nadal, aiming to end Novak Djokovic\u2019s r...</td>\n",
        "      <td>   Sports</td>\n",
        "      <td>  49</td>\n",
        "      <td> The New York Times</td>\n",
        "      <td> Sports</td>\n",
        "      <td>       Tennis</td>\n",
        "      <td> 524cf28b38f0d8198973ff73</td>\n",
        "      <td> 2013-10-03T00:00:00Z</td>\n",
        "      <td>   14</td>\n",
        "      <td>                     Nadal on Track for No. 1 Spot</td>\n",
        "      <td> rafael nadal aiming end novak djokovic\u2019s run 1...</td>\n",
        "    </tr>\n",
        "  </tbody>\n",
        "</table>\n",
        "<p>5 rows \u00d7 15 columns</p>\n",
        "</div>"
       ],
       "metadata": {},
       "output_type": "pyout",
       "prompt_number": 16,
       "text": [
        "  document_type                                            web_url  \\\n",
        "0       article  http://www.nytimes.com/2013/10/03/sports/footb...   \n",
        "1       article  http://www.nytimes.com/2013/10/03/us/new-immig...   \n",
        "2       article  http://www.nytimes.com/2013/10/03/us/arizona-j...   \n",
        "3       article  http://www.nytimes.com/2013/10/03/us/texas-sta...   \n",
        "4       article  http://www.nytimes.com/2013/10/03/sports/tenni...   \n",
        "\n",
        "                                      lead_paragraph  \\\n",
        "0  You would think that in a symmetric zero-sum s...   \n",
        "1  House Democrats on Wednesday unveiled an immig...   \n",
        "2  A federal judge on Wednesday ordered the appoi...   \n",
        "3  Texas has turned to a compounding pharmacy to ...   \n",
        "4  Rafael Nadal, aiming to end Novak Djokovic\u2019s r...   \n",
        "\n",
        "                                            abstract  \\\n",
        "0                                               None   \n",
        "1  House Democrats unveil immigration bill that p...   \n",
        "2  Federal Judge Murray Snow orders the appointme...   \n",
        "3  Documents show that Texas, nation's most activ...   \n",
        "4                                               None   \n",
        "\n",
        "                                             snippet news_desk word_count  \\\n",
        "0  You would think that in a symmetric zero-sum s...    Sports        347   \n",
        "1  House Democrats on Wednesday unveiled an immig...  National         83   \n",
        "2  A federal judge on Wednesday ordered the appoi...  National        160   \n",
        "3  Texas has turned to a compounding pharmacy to ...  National        112   \n",
        "4  Rafael Nadal, aiming to end Novak Djokovic\u2019s r...    Sports         49   \n",
        "\n",
        "               source section_name subsection_name                       _id  \\\n",
        "0  The New York Times       Sports    Pro Football  524d4e3a38f0d8198974001f   \n",
        "1  The New York Times         U.S.            None  524cf71338f0d8198973ff7b   \n",
        "2  The New York Times         U.S.            None  524cf50e38f0d8198973ff79   \n",
        "3  The New York Times         U.S.            None  524cf39a38f0d8198973ff78   \n",
        "4  The New York Times       Sports          Tennis  524cf28b38f0d8198973ff73   \n",
        "\n",
        "               pub_date print_page  \\\n",
        "0  2013-10-03T00:00:00Z       None   \n",
        "1  2013-10-03T00:00:00Z         21   \n",
        "2  2013-10-03T00:00:00Z         21   \n",
        "3  2013-10-03T00:00:00Z         21   \n",
        "4  2013-10-03T00:00:00Z         14   \n",
        "\n",
        "                                            headline  \\\n",
        "0  Week 5 Probabilities: Why Offense Is More Impo...   \n",
        "1                   New Immigration Bill Put Forward   \n",
        "2  Arizona: Judge Orders Monitor to Oversee Maric...   \n",
        "3  Texas: State Bought Execution Drugs From a Com...   \n",
        "4                      Nadal on Track for No. 1 Spot   \n",
        "\n",
        "                                             content  \n",
        "0  the original goal building model football fore...  \n",
        "1  house unveiled immigration bill provides path ...  \n",
        "2  federal judge wednesday ordered appointment in...  \n",
        "3  texas nation\u2019s active death-penalty state turn...  \n",
        "4  rafael nadal aiming end novak djokovic\u2019s run 1...  \n",
        "\n",
        "[5 rows x 15 columns]"
       ]
      }
     ],
     "prompt_number": 16
    },
    {
     "cell_type": "code",
     "collapsed": false,
     "input": [
      "hydrate.describe()"
     ],
     "language": "python",
     "metadata": {},
     "outputs": [
      {
       "html": [
        "<div style=\"max-height:1000px;max-width:1500px;overflow:auto;\">\n",
        "<table border=\"1\" class=\"dataframe\">\n",
        "  <thead>\n",
        "    <tr style=\"text-align: right;\">\n",
        "      <th></th>\n",
        "      <th>document_type</th>\n",
        "      <th>web_url</th>\n",
        "      <th>lead_paragraph</th>\n",
        "      <th>abstract</th>\n",
        "      <th>snippet</th>\n",
        "      <th>news_desk</th>\n",
        "      <th>word_count</th>\n",
        "      <th>source</th>\n",
        "      <th>section_name</th>\n",
        "      <th>subsection_name</th>\n",
        "      <th>_id</th>\n",
        "      <th>pub_date</th>\n",
        "      <th>print_page</th>\n",
        "      <th>headline</th>\n",
        "      <th>content</th>\n",
        "    </tr>\n",
        "  </thead>\n",
        "  <tbody>\n",
        "    <tr>\n",
        "      <th>count</th>\n",
        "      <td>    1405</td>\n",
        "      <td>                                              1405</td>\n",
        "      <td>                   1405</td>\n",
        "      <td>                                              1001</td>\n",
        "      <td>                   1405</td>\n",
        "      <td>   1405</td>\n",
        "      <td> 1405</td>\n",
        "      <td>               1405</td>\n",
        "      <td>   1405</td>\n",
        "      <td>      954</td>\n",
        "      <td>                     1405</td>\n",
        "      <td>                 1405</td>\n",
        "      <td> 1379</td>\n",
        "      <td>                  1405</td>\n",
        "      <td>                                              1405</td>\n",
        "    </tr>\n",
        "    <tr>\n",
        "      <th>unique</th>\n",
        "      <td>       1</td>\n",
        "      <td>                                              1404</td>\n",
        "      <td>                   1374</td>\n",
        "      <td>                                              1001</td>\n",
        "      <td>                   1374</td>\n",
        "      <td>     18</td>\n",
        "      <td>  886</td>\n",
        "      <td>                  3</td>\n",
        "      <td>     10</td>\n",
        "      <td>       37</td>\n",
        "      <td>                     1405</td>\n",
        "      <td>                   20</td>\n",
        "      <td>   41</td>\n",
        "      <td>                  1375</td>\n",
        "      <td>                                              1397</td>\n",
        "    </tr>\n",
        "    <tr>\n",
        "      <th>top</th>\n",
        "      <td> article</td>\n",
        "      <td> http://www.nytimes.com/2013/10/01/arts/televis...</td>\n",
        "      <td> Television highlights.</td>\n",
        "      <td> Tod Tillotson, New York Mets official mailman,...</td>\n",
        "      <td> Television highlights.</td>\n",
        "      <td> Sports</td>\n",
        "      <td>  369</td>\n",
        "      <td> The New York Times</td>\n",
        "      <td> Sports</td>\n",
        "      <td> Baseball</td>\n",
        "      <td> 523d1f4238f0d8198973aeb8</td>\n",
        "      <td> 2013-09-27T00:00:00Z</td>\n",
        "      <td>     </td>\n",
        "      <td> 100, 75, 50 Years Ago</td>\n",
        "      <td> san francisco the america\u2019s cup produced short...</td>\n",
        "    </tr>\n",
        "    <tr>\n",
        "      <th>freq</th>\n",
        "      <td>    1405</td>\n",
        "      <td>                                                 2</td>\n",
        "      <td>                     12</td>\n",
        "      <td>                                                 1</td>\n",
        "      <td>                     12</td>\n",
        "      <td>    338</td>\n",
        "      <td>    6</td>\n",
        "      <td>               1305</td>\n",
        "      <td>    340</td>\n",
        "      <td>       82</td>\n",
        "      <td>                        1</td>\n",
        "      <td>                  123</td>\n",
        "      <td>  239</td>\n",
        "      <td>                    11</td>\n",
        "      <td>                                                 2</td>\n",
        "    </tr>\n",
        "  </tbody>\n",
        "</table>\n",
        "<p>4 rows \u00d7 15 columns</p>\n",
        "</div>"
       ],
       "metadata": {},
       "output_type": "pyout",
       "prompt_number": 17,
       "text": [
        "       document_type                                            web_url  \\\n",
        "count           1405                                               1405   \n",
        "unique             1                                               1404   \n",
        "top          article  http://www.nytimes.com/2013/10/01/arts/televis...   \n",
        "freq            1405                                                  2   \n",
        "\n",
        "                lead_paragraph  \\\n",
        "count                     1405   \n",
        "unique                    1374   \n",
        "top     Television highlights.   \n",
        "freq                        12   \n",
        "\n",
        "                                                 abstract  \\\n",
        "count                                                1001   \n",
        "unique                                               1001   \n",
        "top     Tod Tillotson, New York Mets official mailman,...   \n",
        "freq                                                    1   \n",
        "\n",
        "                       snippet news_desk word_count              source  \\\n",
        "count                     1405      1405       1405                1405   \n",
        "unique                    1374        18        886                   3   \n",
        "top     Television highlights.    Sports        369  The New York Times   \n",
        "freq                        12       338          6                1305   \n",
        "\n",
        "       section_name subsection_name                       _id  \\\n",
        "count          1405             954                      1405   \n",
        "unique           10              37                      1405   \n",
        "top          Sports        Baseball  523d1f4238f0d8198973aeb8   \n",
        "freq            340              82                         1   \n",
        "\n",
        "                    pub_date print_page               headline  \\\n",
        "count                   1405       1379                   1405   \n",
        "unique                    20         41                   1375   \n",
        "top     2013-09-27T00:00:00Z             100, 75, 50 Years Ago   \n",
        "freq                     123        239                     11   \n",
        "\n",
        "                                                  content  \n",
        "count                                                1405  \n",
        "unique                                               1397  \n",
        "top     san francisco the america\u2019s cup produced short...  \n",
        "freq                                                    2  \n",
        "\n",
        "[4 rows x 15 columns]"
       ]
      }
     ],
     "prompt_number": 17
    },
    {
     "cell_type": "code",
     "collapsed": false,
     "input": [
      "fig = plt.figure()\n",
      "hydrate['section_name'].value_counts().plot(kind='bar')"
     ],
     "language": "python",
     "metadata": {},
     "outputs": [
      {
       "metadata": {},
       "output_type": "pyout",
       "prompt_number": 18,
       "text": [
        "<matplotlib.axes.AxesSubplot at 0x10fd80510>"
       ]
      },
      {
       "metadata": {},
       "output_type": "display_data",
       "png": "[encoded data removed]",
       "text": [
        "<matplotlib.figure.Figure at 0x10df4a0d0>"
       ]
      }
     ],
     "prompt_number": 18
    },
    {
     "cell_type": "code",
     "collapsed": false,
     "input": [
      "features = np.array(hydrate['content'])\n",
      "\n",
      "X = vectorizer.fit_transform(features)\n",
      "\n",
      "labels = np.array(hydrate['section_name'], dtype=\"|S\")"
     ],
     "language": "python",
     "metadata": {},
     "outputs": [],
     "prompt_number": 19
    },
    {
     "cell_type": "code",
     "collapsed": false,
     "input": [
      "from sklearn.cross_validation import train_test_split\n",
      "\n",
      "xtrain, xtest, ytrain, ytest = train_test_split(X, labels, test_size=0.3)"
     ],
     "language": "python",
     "metadata": {},
     "outputs": [],
     "prompt_number": 20
    },
    {
     "cell_type": "code",
     "collapsed": false,
     "input": [
      "alpha = 1\n",
      "\n",
      "multi_bayes = MultinomialNB(alpha=alpha)"
     ],
     "language": "python",
     "metadata": {},
     "outputs": [],
     "prompt_number": 21
    },
    {
     "cell_type": "code",
     "collapsed": false,
     "input": [
      "multi_bayes.fit(xtrain, ytrain)\n",
      "multi_bayes.score(xtest, ytest)"
     ],
     "language": "python",
     "metadata": {},
     "outputs": [
      {
       "metadata": {},
       "output_type": "pyout",
       "prompt_number": 22,
       "text": [
        "0.7890995260663507"
       ]
      }
     ],
     "prompt_number": 22
    },
    {
     "cell_type": "code",
     "collapsed": false,
     "input": [
      "from yhat import Yhat, YhatModel , preprocess\n",
      "\n",
      "class DocumentClassifier(YhatModel):\n",
      "    @preprocess(in_type=dict, out_type=dict) \n",
      "    def execute(self, data):\n",
      "        featureBody = vectorizer.transform([data['content']])\n",
      "        result = multi_bayes.predict(featureBody)\n",
      "        list_res = result.tolist()\n",
      "        return {\"section_name\": list_res}"
     ],
     "language": "python",
     "metadata": {},
     "outputs": [],
     "prompt_number": 57
    },
    {
     "cell_type": "code",
     "collapsed": false,
     "input": [
      "clf = DocumentClassifier()"
     ],
     "language": "python",
     "metadata": {},
     "outputs": [],
     "prompt_number": 58
    },
    {
     "cell_type": "code",
     "collapsed": false,
     "input": [
      "yh = Yhat(\"[USERNAME]\", \"[API KEY]\", \"http://cloud.yhathq.com/\")\n",
      "yh.deploy(\"documentClassifier\", DocumentClassifier, globals())"
     ],
     "language": "python",
     "metadata": {},
     "outputs": [],
     "prompt_number": 72
    }
   ],
   "metadata": {}
  }
 ]
}